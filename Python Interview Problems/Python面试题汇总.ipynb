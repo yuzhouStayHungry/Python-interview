{
 "cells": [
  {
   "cell_type": "markdown",
   "metadata": {},
   "source": [
    "# Python面试题"
   ]
  },
  {
   "cell_type": "markdown",
   "metadata": {},
   "source": [
    "1. 逆序输出偶数的平方, 比如：[1,2,3,4,5,6,7,8,9] 输出 [64,36,16,4]。\n",
    "限定：Python一行实现"
   ]
  },
  {
   "cell_type": "code",
   "execution_count": 1,
   "metadata": {},
   "outputs": [
    {
     "name": "stdout",
     "output_type": "stream",
     "text": [
      "[64, 36, 16, 4]\n"
     ]
    }
   ],
   "source": [
    "print([i ** 2 for i in range(9, 1, -1) if i % 2 == 0])"
   ]
  },
  {
   "cell_type": "markdown",
   "metadata": {},
   "source": [
    "2. sort 和sorted\n",
    "\n",
    "不同点：sort()是可变对象（列表、对象）的方法，无返回值\n",
    "而sorted()是python的内置函数,sorted()函数需要一个参数，用来对所有可迭代序列排序生成新的序列，有返回值\n",
    "相同点：二者默认实现升序,但都可以使用参数reverse=True来逆序\n",
    "```\n",
    "sorted(iterable[, key][, reverse]) \n",
    "list.sort(*, key=None, reverse=None) \n",
    "```\n",
    "- key 是带一个参数的函数，返回一个值用来排序，默认为 None。这个函数只调用一次，所以fast。\n",
    "- reverse 表示排序结果是否反转\n",
    "\n",
    "> 同理：reverse() 和 reversed()"
   ]
  },
  {
   "cell_type": "code",
   "execution_count": 13,
   "metadata": {},
   "outputs": [
    {
     "data": {
      "text/plain": [
       "[1, 5, 6, 7, 9]"
      ]
     },
     "execution_count": 13,
     "metadata": {},
     "output_type": "execute_result"
    }
   ],
   "source": [
    "sorted([5, 7, 1, 6, 9])  # 列表使用sorted()方法，会返回一个新的列表；"
   ]
  },
  {
   "cell_type": "code",
   "execution_count": 14,
   "metadata": {},
   "outputs": [
    {
     "data": {
      "text/plain": [
       "[1, 5, 6, 7, 9]"
      ]
     },
     "execution_count": 14,
     "metadata": {},
     "output_type": "execute_result"
    }
   ],
   "source": [
    "sorted((5, 7, 1, 6, 9))  # 对元组等不可变对象使用sorted()会返回列表"
   ]
  },
  {
   "cell_type": "code",
   "execution_count": 12,
   "metadata": {},
   "outputs": [
    {
     "name": "stdout",
     "output_type": "stream",
     "text": [
      "[5, 7, 1, 6, 9]\n",
      "[1, 5, 6, 7, 9]\n"
     ]
    },
    {
     "ename": "AttributeError",
     "evalue": "'tuple' object has no attribute 'sort'",
     "output_type": "error",
     "traceback": [
      "\u001b[0;31m---------------------------------------------------------------------------\u001b[0m",
      "\u001b[0;31mAttributeError\u001b[0m                            Traceback (most recent call last)",
      "\u001b[0;32m<ipython-input-12-a57a100042d2>\u001b[0m in \u001b[0;36m<module>\u001b[0;34m\u001b[0m\n\u001b[1;32m      5\u001b[0m \u001b[0;34m\u001b[0m\u001b[0m\n\u001b[1;32m      6\u001b[0m \u001b[0mtu\u001b[0m \u001b[0;34m=\u001b[0m \u001b[0;34m(\u001b[0m\u001b[0;36m1\u001b[0m\u001b[0;34m,\u001b[0m \u001b[0;36m6\u001b[0m\u001b[0;34m,\u001b[0m \u001b[0;36m5\u001b[0m\u001b[0;34m,\u001b[0m \u001b[0;36m4\u001b[0m\u001b[0;34m,\u001b[0m \u001b[0;36m3\u001b[0m\u001b[0;34m)\u001b[0m\u001b[0;34m\u001b[0m\u001b[0;34m\u001b[0m\u001b[0m\n\u001b[0;32m----> 7\u001b[0;31m \u001b[0mtu\u001b[0m\u001b[0;34m.\u001b[0m\u001b[0msort\u001b[0m\u001b[0;34m(\u001b[0m\u001b[0;34m)\u001b[0m\u001b[0;34m\u001b[0m\u001b[0;34m\u001b[0m\u001b[0m\n\u001b[0m",
      "\u001b[0;31mAttributeError\u001b[0m: 'tuple' object has no attribute 'sort'"
     ]
    }
   ],
   "source": [
    "li = [5, 7, 1, 6, 9]\n",
    "print(li)\n",
    "li.sort() # 使用list.sort()方法来排序,此时list本身将被修改\n",
    "print(li)\n",
    "\n",
    "tu = (1, 6, 5, 4, 3)\n",
    "tu.sort()  # 元组不能使用sort()方法"
   ]
  },
  {
   "cell_type": "code",
   "execution_count": 19,
   "metadata": {},
   "outputs": [
    {
     "name": "stdout",
     "output_type": "stream",
     "text": [
      "[9, 7, 6, 5, 1]\n"
     ]
    }
   ],
   "source": [
    "li.sort(reverse=True)\n",
    "print(li)"
   ]
  },
  {
   "cell_type": "code",
   "execution_count": 20,
   "metadata": {},
   "outputs": [
    {
     "data": {
      "text/plain": [
       "[9, 7, 6, 5, 1]"
      ]
     },
     "execution_count": 20,
     "metadata": {},
     "output_type": "execute_result"
    }
   ],
   "source": [
    "sorted([5, 7, 1, 6, 9], reverse=True)"
   ]
  },
  {
   "cell_type": "markdown",
   "metadata": {},
   "source": [
    "3. 一行代码实现1-100的和"
   ]
  },
  {
   "cell_type": "code",
   "execution_count": 2,
   "metadata": {},
   "outputs": [
    {
     "data": {
      "text/plain": [
       "5050"
      ]
     },
     "execution_count": 2,
     "metadata": {},
     "output_type": "execute_result"
    }
   ],
   "source": [
    "sum(range(1, 101))"
   ]
  },
  {
   "cell_type": "markdown",
   "metadata": {},
   "source": [
    "4. python的GIL"
   ]
  },
  {
   "cell_type": "code",
   "execution_count": 6,
   "metadata": {},
   "outputs": [
    {
     "name": "stdout",
     "output_type": "stream",
     "text": [
      "-410692\n"
     ]
    }
   ],
   "source": [
    "# GIL是cpython的全局解释器锁，同一进程中假如有多个线程运行，GIL能保证同一时刻只有一个线程在运行，等该线程运行完\n",
    "# 后其他线程才能运行。如果线程运行过程中遇到耗时操作，则解释器锁解开，使其他线程运行。\n",
    "# 所以，在GIL下，多线程的运行仍是有先后顺序的，并不是同时进行。\n",
    "\n",
    "import threading\n",
    "total = 0\n",
    "\n",
    "def add():\n",
    "    global total\n",
    "    for i in range(1000000):\n",
    "        total += 1\n",
    "        \n",
    "def desc():\n",
    "    global total\n",
    "    for i in range(1000000):\n",
    "        total -= 1\n",
    "\n",
    "# GIL 会根据执行的字节码行数以及时间来释放GIL，遇到IO操作，也会得到释放\n",
    "thread1 = threading.Thread(target=add)\n",
    "thread2 = threading.Thread(target=desc)\n",
    "thread1.start()\n",
    "thread2.start()\n",
    "\n",
    "thread1.join()\n",
    "thread2.join()\n",
    "\n",
    "print(total) # 所以此处的total并不定为0，而且每次执行完后的total结果不相同"
   ]
  },
  {
   "cell_type": "code",
   "execution_count": 9,
   "metadata": {},
   "outputs": [
    {
     "name": "stdout",
     "output_type": "stream",
     "text": [
      "0\n"
     ]
    }
   ],
   "source": [
    "# 但多进程中因为每个进程都能被系统分配资源，相当于每个进程都有一个Python解释器，所以多进程可以实现多个进程的同时运行，\n",
    "# 但缺点是进程系统资源开销大。\n",
    "import multiprocessing\n",
    "\n",
    "total = 0\n",
    "\n",
    "def add():\n",
    "    global total\n",
    "    for i in range(1000000):\n",
    "        total += 1\n",
    "        \n",
    "def desc():\n",
    "    global total\n",
    "    for i in range(1000000):\n",
    "        total -= 1\n",
    "        \n",
    "mp1 = multiprocessing.Process(target=add)\n",
    "mp2 = multiprocessing.Process(target=desc)\n",
    "\n",
    "mp1.start()\n",
    "mp2.start()\n",
    "\n",
    "mp1.join()\n",
    "mp2.join()\n",
    "print(total) # 所以多进程下的total恒定为0"
   ]
  },
  {
   "cell_type": "markdown",
   "metadata": {},
   "source": [
    "5.Python实现列表去重"
   ]
  },
  {
   "cell_type": "code",
   "execution_count": 20,
   "metadata": {},
   "outputs": [
    {
     "data": {
      "text/plain": [
       "[1, 3, 4, 5, 8]"
      ]
     },
     "execution_count": 20,
     "metadata": {},
     "output_type": "execute_result"
    }
   ],
   "source": [
    "l = [3, 1, 4, 5, 4, 8, 3]\n",
    "a = set(l)\n",
    "[i for i in a]"
   ]
  },
  {
   "cell_type": "markdown",
   "metadata": {},
   "source": [
    "6. fun(\\*args, **kwargs)中的 *args, **kwargs的使用"
   ]
  },
  {
   "cell_type": "code",
   "execution_count": 22,
   "metadata": {},
   "outputs": [],
   "source": [
    "# *args和**kwargs主要用于函数定义。作用是我们可以将不定数量的参数传递给函数。\n",
    "# *args用来发送一个非键值对的可变数量的参数列表给一个函数，重要的是前面的星号，*用其他名字也可以\n",
    "def func(arg, *parameters):\n",
    "    print(arg)\n",
    "    for para in parameters:\n",
    "        print(para)"
   ]
  },
  {
   "cell_type": "code",
   "execution_count": 23,
   "metadata": {},
   "outputs": [
    {
     "name": "stdout",
     "output_type": "stream",
     "text": [
      "a\n",
      "b\n",
      "c\n",
      "1\n",
      "2\n"
     ]
    }
   ],
   "source": [
    "func('a', 'b', 'c', 1, 2)"
   ]
  },
  {
   "cell_type": "code",
   "execution_count": 24,
   "metadata": {},
   "outputs": [],
   "source": [
    "# **kwargs允许你将不定长度的键值对，作为参数传递给一个函数。如果你想要在一个函数里出来带名字的参数，就应该使用**kwargs\n",
    "def func(**kwargs):\n",
    "    for k, v in kwargs.items():\n",
    "        print(k, v)"
   ]
  },
  {
   "cell_type": "code",
   "execution_count": 25,
   "metadata": {},
   "outputs": [
    {
     "name": "stdout",
     "output_type": "stream",
     "text": [
      "name yisu\n",
      "age 18\n"
     ]
    }
   ],
   "source": [
    "func(name=\"yisu\", age='18')"
   ]
  },
  {
   "cell_type": "markdown",
   "metadata": {},
   "source": [
    "7.\\__new__和\\__init__的区别"
   ]
  },
  {
   "cell_type": "code",
   "execution_count": null,
   "metadata": {},
   "outputs": [],
   "source": [
    "'''\n",
    "1. __init__ 通常用于初始化一个新实例，控制这个初始化的过程，比如添加一些属性， 做一些额外的操作，发生在类实例被创建完以后。它是实例级别的方法。\n",
    "2. __new__ 通常用于控制生成一个新实例的过程。它是类级别的方法。\n",
    "\n",
    "题目：__new__和__init__的区别，说法正确的是？ （ABCD）\n",
    "\n",
    "A. __new__是一个静态方法，而__init__是一个实例方法\n",
    "B. __new__方法会返回一个创建的实例，而__init__什么都不返回\n",
    "C. 只有在__new__返回一个cls的实例时，后面的__init__才能被调用\n",
    "D. 当创建一个新实例时调用__new__，初始化一个实例时用__init__\n",
    "'''"
   ]
  },
  {
   "cell_type": "markdown",
   "metadata": {},
   "source": [
    "8. 可变对象与不可变对象"
   ]
  },
  {
   "cell_type": "code",
   "execution_count": 30,
   "metadata": {},
   "outputs": [
    {
     "name": "stdout",
     "output_type": "stream",
     "text": [
      "4496815312\n",
      "4496815312\n",
      "4496815344\n"
     ]
    }
   ],
   "source": [
    "# 不可变对象：数值、字符串str、元组tuple\n",
    "# 因为 Python 中的变量存放的是对象引用，所以对不可变对象而言，尽管对象本身不可改变，但变量的对象引用仍是可变的。\n",
    "# 具体而言，指向原对象的变量被改变为指向新对象时，Python 会开辟一块新的内存区域，并令变量指向这个新内存 (存放新对象引用)\n",
    "a = 3\n",
    "b = 3\n",
    "print(id(a))\n",
    "print(id(b))\n",
    "a += 1\n",
    "print(id(a))"
   ]
  },
  {
   "cell_type": "code",
   "execution_count": 34,
   "metadata": {},
   "outputs": [
    {
     "name": "stdout",
     "output_type": "stream",
     "text": [
      "4542647504\n",
      "4542647504\n"
     ]
    }
   ],
   "source": [
    "# 可变对象：常见的有 list、dict、set 等。\n",
    "# 对象相应内存中的值可改变，因此指向可变对象的变量若发生改变，则该可变对象亦随之改变，即发生原地 (in-place) 修改。\n",
    "# 换言之， 当对象相应内存中的值变化时，变量的对象引用是不会变化的。\n",
    "a = [1, 2, 3]\n",
    "print(id(a))\n",
    "a += [4]\n",
    "print(id(a))"
   ]
  },
  {
   "cell_type": "code",
   "execution_count": null,
   "metadata": {},
   "outputs": [],
   "source": []
  }
 ],
 "metadata": {
  "kernelspec": {
   "display_name": "Python 3",
   "language": "python",
   "name": "python3"
  },
  "language_info": {
   "codemirror_mode": {
    "name": "ipython",
    "version": 3
   },
   "file_extension": ".py",
   "mimetype": "text/x-python",
   "name": "python",
   "nbconvert_exporter": "python",
   "pygments_lexer": "ipython3",
   "version": "3.7.4"
  },
  "pycharm": {
   "stem_cell": {
    "cell_type": "raw",
    "metadata": {
     "collapsed": false
    },
    "source": []
   }
  },
  "toc": {
   "base_numbering": 1,
   "nav_menu": {},
   "number_sections": true,
   "sideBar": true,
   "skip_h1_title": false,
   "title_cell": "Table of Contents",
   "title_sidebar": "Contents",
   "toc_cell": false,
   "toc_position": {},
   "toc_section_display": true,
   "toc_window_display": false
  }
 },
 "nbformat": 4,
 "nbformat_minor": 2
}
